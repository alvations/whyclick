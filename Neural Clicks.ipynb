{
 "cells": [
  {
   "cell_type": "code",
   "execution_count": null,
   "metadata": {},
   "outputs": [],
   "source": [
    "import time\n",
    "import random \n",
    "\n",
    "import numpy as np\n",
    "from tqdm import tqdm\n",
    "from bs4 import BeautifulSoup\n",
    "\n",
    "import click\n",
    "\n",
    "from whyclick.chrome import open_chrome, remove_popups\n",
    "from whyclick import whyq\n",
    "\n",
    "import torch"
   ]
  },
  {
   "cell_type": "code",
   "execution_count": null,
   "metadata": {},
   "outputs": [],
   "source": [
    "query = {'username': \"*****\", 'password': \"*****\"}\n",
    "\n",
    "driver = whyq.login(query['username'], query['password'], headless=False)"
   ]
  },
  {
   "cell_type": "code",
   "execution_count": null,
   "metadata": {},
   "outputs": [],
   "source": [
    "order_json = whyq.download_previous_orders(driver)"
   ]
  },
  {
   "cell_type": "code",
   "execution_count": null,
   "metadata": {},
   "outputs": [],
   "source": [
    "ordered_items = [o['Item Name'] for o in order_json]"
   ]
  },
  {
   "cell_type": "code",
   "execution_count": null,
   "metadata": {},
   "outputs": [],
   "source": [
    "from transformers import DistilBertTokenizer, DistilBertModel, DistilBertForSequenceClassification"
   ]
  },
  {
   "cell_type": "code",
   "execution_count": null,
   "metadata": {},
   "outputs": [],
   "source": [
    "tokenizer = DistilBertTokenizer.from_pretrained('distilbert-base-uncased')\n",
    "model = DistilBertModel.from_pretrained('distilbert-base-uncased')"
   ]
  },
  {
   "cell_type": "code",
   "execution_count": null,
   "metadata": {},
   "outputs": [],
   "source": [
    "def vectorize(text):\n",
    "    input_ids = torch.tensor(tokenizer.encode(text)).unsqueeze(0)\n",
    "    ff = model(input_ids)\n",
    "    return ff[0].squeeze().squeeze().detach().numpy()[0]\n"
   ]
  },
  {
   "cell_type": "code",
   "execution_count": null,
   "metadata": {},
   "outputs": [],
   "source": [
    "# Converts sentences to arrays of floats.\n",
    "vectorized_sents = [vectorize(s) for s in tqdm(ordered_items)]"
   ]
  },
  {
   "cell_type": "code",
   "execution_count": null,
   "metadata": {},
   "outputs": [],
   "source": [
    "driver.get('http://whyq.sg')"
   ]
  },
  {
   "cell_type": "code",
   "execution_count": null,
   "metadata": {},
   "outputs": [],
   "source": [
    "def smartly_order_one_day(driver, element_day, halal=False, healthy=False, vegetarian=False):\n",
    "    time.sleep(1)\n",
    "    loop_count = 0 # Sanity break.\n",
    "    while True:\n",
    "        try:\n",
    "            # Apply dietary filter\n",
    "            whyq.apply_dietary_filters(driver, halal, healthy, vegetarian)\n",
    "            # Find meals.\n",
    "            meals = [b for b in element_day.find_elements_by_xpath('//button')\n",
    "                     if b and b.text == \"ADD\"]\n",
    "\n",
    "            meals_str = [h6.text for h6 in element_day.find_elements_by_xpath('//h6')][:len(meals)]\n",
    "            meals_vec = [vectorize(m) for m in meals_str]\n",
    "\n",
    "            top_m, top_m_score = -1, -1\n",
    "            for i, m in enumerate(meals_vec):\n",
    "                for s in vectorized_sents:\n",
    "                    if np.dot(m, s.T) > top_m_score:\n",
    "                        top_m = i\n",
    "\n",
    "            meals[top_m].click()\n",
    "\n",
    "            # Randomly choose one.\n",
    "            ##random.choice(meals).click()\n",
    "\n",
    "            # Check if you've ordered already.\n",
    "            time.sleep(0.3)\n",
    "            msg = element_day.find_element_by_xpath('//div[@id=\"notify_msg\"]')\n",
    "            break\n",
    "        except IndexError: # No meals from dietary restriction.\n",
    "            # Repeat the loop so that the filters are undone.\n",
    "            pass\n",
    "        if loop_count > 3: # Sanity break.\n",
    "            break # If everything fails, go to next day.\n",
    "        loop_count += 1\n",
    "    return driver, element_day, msg.text"
   ]
  },
  {
   "cell_type": "code",
   "execution_count": null,
   "metadata": {},
   "outputs": [],
   "source": [
    "days = driver.find_elements_by_xpath(\"//div[@class='owl-item active']\")\n",
    "\n",
    "for element_day in days:\n",
    "    element_day.click()\n",
    "    driver, element_day, msg = smartly_order_one_day(\n",
    "        driver, element_day, halal=True\n",
    "    )\n",
    "    time.sleep(3)"
   ]
  },
  {
   "cell_type": "code",
   "execution_count": null,
   "metadata": {},
   "outputs": [],
   "source": [
    "driver.find_element_by_link_text(\"PLACE ORDER\").click()"
   ]
  },
  {
   "cell_type": "code",
   "execution_count": null,
   "metadata": {},
   "outputs": [],
   "source": []
  }
 ],
 "metadata": {
  "kernelspec": {
   "display_name": "Python 3",
   "language": "python",
   "name": "python3"
  },
  "language_info": {
   "codemirror_mode": {
    "name": "ipython",
    "version": 3
   },
   "file_extension": ".py",
   "mimetype": "text/x-python",
   "name": "python",
   "nbconvert_exporter": "python",
   "pygments_lexer": "ipython3",
   "version": "3.6.4rc1"
  }
 },
 "nbformat": 4,
 "nbformat_minor": 2
}
